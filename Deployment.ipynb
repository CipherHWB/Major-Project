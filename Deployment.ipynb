{
 "cells": [
  {
   "cell_type": "code",
   "execution_count": 1,
   "id": "22f438cb-4da4-4dcd-a625-14fdb813035c",
   "metadata": {},
   "outputs": [],
   "source": [
    "import numpy as np\n",
    "from flask import Flask, request, render_template\n",
    "import joblib"
   ]
  },
  {
   "cell_type": "code",
   "execution_count": 2,
   "id": "b15deff9-bfcb-4ee3-90c5-a986e00031fa",
   "metadata": {},
   "outputs": [
    {
     "name": "stdout",
     "output_type": "stream",
     "text": [
      "Model loaded successfully.\n"
     ]
    }
   ],
   "source": [
    "# Load the model from the file\n",
    "app = Flask(__name__, template_folder= \"C:/Users/ciphe/my_template\")\n",
    "joblib_file = \"logistic_regression_model.joblib\"\n",
    "log_reg = joblib.load(joblib_file)\n",
    "\n",
    "print(\"Model loaded successfully.\")\n"
   ]
  },
  {
   "cell_type": "code",
   "execution_count": 3,
   "id": "73f62384-32bb-4ffa-b084-82710a8fbfdb",
   "metadata": {},
   "outputs": [],
   "source": [
    "# Define the '/' root route to display the content from index.html\n",
    "@app.route('/')\n",
    "def home():\n",
    "    return render_template('Index.html')"
   ]
  },
  {
   "cell_type": "code",
   "execution_count": 4,
   "id": "174a45e6-a911-4b84-9293-8eee58ac15dc",
   "metadata": {},
   "outputs": [],
   "source": [
    "@app.route('/predict', methods=['POST'])\n",
    "def predict():\n",
    "    form = request.form\n",
    "    if form:\n",
    "        # Map form feature1 value to its numeric value\n",
    "        industry_mapping = {\n",
    "            'variable1': 0,\n",
    "            'variable2': 1,\n",
    "            'variable3': 2,\n",
    "            'variable4': 3,\n",
    "            'variable5': 4,\n",
    "            'variable6': 5,\n",
    "            'variable7': 6,\n",
    "            'variable8': 7,\n",
    "            'variable9': 8,\n",
    "            'variable10': 9,\n",
    "            'variable11': 10,\n",
    "            'variable12': 11,\n",
    "            'variable13': 12\n",
    "        }\n",
    "\n",
    "        # Define mappings for regions and methods\n",
    "        region_mapping = {\n",
    "            'One Punggol CC': 1,\n",
    "            'Pasir ris east CC': 2,\n",
    "            'Pasir ris elias CC': 3,\n",
    "            'Punggol 21 CC': 4,\n",
    "            'Punggol west CC': 5,\n",
    "            'Rivervale CC': 6,\n",
    "            'Sengkang CC': 7\n",
    "        }\n",
    "\n",
    "        method_mapping = {\n",
    "            'Walk in': 1,\n",
    "            'Sengkang General Hospital Fair': 2,\n",
    "            'Elderly': 3\n",
    "        }\n",
    "\n",
    "        # Extract form data and create feature array\n",
    "        feature1 = industry_mapping[form['feature1']]\n",
    "        feature2 = float(form['feature2'])  # No. of interviewees\n",
    "        feature3 = float(form['feature3'])  # No. of KIV\n",
    "        feature4 = float(form['feature4'])  # No. of Rejected\n",
    "        feature5 = 1 if form['feature5'] == 'Yes' else 0  # Rank & file\n",
    "        feature6 = 1 if form['feature6'] == 'Yes' else 0  # PMET\n",
    "        \n",
    "        # Use the region and method mappings\n",
    "        feature7 = region_mapping.get(form['feature7'], 0)  # Default to 0 if not found\n",
    "        feature8 = method_mapping.get(form['feature8'], 0)  # Default to 0 if not found\n",
    "        \n",
    "        feature9 = float(form['feature9'])  # No. of residents of Sengkang\n",
    "        feature10 = float(form['feature10'])  # No. of residents of Pasir Ris\n",
    "        feature11 = float(form['feature11'])  # No. of residents of Punggol\n",
    "\n",
    "        form_data = [\n",
    "            feature1, feature2, feature3, feature4, feature5, feature6,\n",
    "            feature7, feature8, feature9, feature10, feature11\n",
    "        ]\n",
    "\n",
    "        features = [np.array(form_data)]\n",
    "        prediction = log_reg.predict(features)\n",
    "\n",
    "        # Print the prediction to the console\n",
    "        print(\"Successful Placement:\", prediction[0])\n",
    "\n",
    "        # Set the prediction text based on the model's output\n",
    "        if prediction[0] == 0:\n",
    "            prediction_text = \"Failure!\"\n",
    "        else:\n",
    "            prediction_text = \"Success!\"\n",
    "\n",
    "    # Format prediction text for display in \"index.html\"\n",
    "    return render_template('Index.html', prediction_text='High Probability of successful placement: {}'.format(prediction_text))"
   ]
  },
  {
   "cell_type": "code",
   "execution_count": null,
   "id": "0cf5365e-9421-4d76-b21c-1178bde5aef0",
   "metadata": {},
   "outputs": [
    {
     "name": "stdout",
     "output_type": "stream",
     "text": [
      " * Serving Flask app '__main__'\n",
      " * Debug mode: off\n"
     ]
    },
    {
     "name": "stderr",
     "output_type": "stream",
     "text": [
      "WARNING: This is a development server. Do not use it in a production deployment. Use a production WSGI server instead.\n",
      " * Running on http://127.0.0.1:5000\n",
      "Press CTRL+C to quit\n",
      "127.0.0.1 - - [30/Jul/2024 10:25:32] \"GET / HTTP/1.1\" 200 -\n",
      "C:\\Users\\ciphe\\anaconda3\\Lib\\site-packages\\sklearn\\base.py:439: UserWarning: X does not have valid feature names, but LogisticRegression was fitted with feature names\n",
      "  warnings.warn(\n",
      "127.0.0.1 - - [30/Jul/2024 10:25:47] \"POST /predict HTTP/1.1\" 200 -\n"
     ]
    },
    {
     "name": "stdout",
     "output_type": "stream",
     "text": [
      "Successful Placement: 1\n"
     ]
    },
    {
     "name": "stderr",
     "output_type": "stream",
     "text": [
      "127.0.0.1 - - [30/Jul/2024 12:26:27] \"GET / HTTP/1.1\" 200 -\n",
      "C:\\Users\\ciphe\\anaconda3\\Lib\\site-packages\\sklearn\\base.py:439: UserWarning: X does not have valid feature names, but LogisticRegression was fitted with feature names\n",
      "  warnings.warn(\n",
      "127.0.0.1 - - [30/Jul/2024 12:26:45] \"POST /predict HTTP/1.1\" 200 -\n"
     ]
    },
    {
     "name": "stdout",
     "output_type": "stream",
     "text": [
      "Successful Placement: 1\n"
     ]
    }
   ],
   "source": [
    "if __name__ == '__main__':\n",
    "    app.run(debug=False)"
   ]
  }
 ],
 "metadata": {
  "kernelspec": {
   "display_name": "Python 3 (ipykernel)",
   "language": "python",
   "name": "python3"
  },
  "language_info": {
   "codemirror_mode": {
    "name": "ipython",
    "version": 3
   },
   "file_extension": ".py",
   "mimetype": "text/x-python",
   "name": "python",
   "nbconvert_exporter": "python",
   "pygments_lexer": "ipython3",
   "version": "3.11.7"
  }
 },
 "nbformat": 4,
 "nbformat_minor": 5
}
